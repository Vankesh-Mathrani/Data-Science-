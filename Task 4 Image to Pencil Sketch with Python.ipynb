{
 "cells": [
  {
   "cell_type": "markdown",
   "id": "f94a43be",
   "metadata": {},
   "source": [
    "# LGMVIP JUNE 2023 BATCH"
   ]
  },
  {
   "cell_type": "markdown",
   "id": "9ad8fb0b",
   "metadata": {},
   "source": [
    "# Task 4 Image to Pencil Sketch with Python"
   ]
  },
  {
   "cell_type": "code",
   "execution_count": 1,
   "id": "de12c893",
   "metadata": {},
   "outputs": [],
   "source": [
    "import cv2"
   ]
  },
  {
   "cell_type": "code",
   "execution_count": 2,
   "id": "b74d0446",
   "metadata": {},
   "outputs": [],
   "source": [
    "filename = 'image.jpg'"
   ]
  },
  {
   "cell_type": "code",
   "execution_count": 3,
   "id": "981293ab",
   "metadata": {},
   "outputs": [],
   "source": [
    "#read the image\n",
    "input_img = cv2.imread(filename)"
   ]
  },
  {
   "cell_type": "code",
   "execution_count": 4,
   "id": "7e2b9749",
   "metadata": {},
   "outputs": [],
   "source": [
    "#convert the image to gray scale\n",
    "gray_image = cv2.cvtColor(input_img, cv2.COLOR_BGR2GRAY)"
   ]
  },
  {
   "cell_type": "code",
   "execution_count": 5,
   "id": "7d35edde",
   "metadata": {},
   "outputs": [],
   "source": [
    "#invert the image\n",
    "inverted_gray_image = 255 - gray_image"
   ]
  },
  {
   "cell_type": "code",
   "execution_count": 6,
   "id": "113382a9",
   "metadata": {},
   "outputs": [],
   "source": [
    "#blur the image by gaussian blur\n",
    "blurred_image = cv2.GaussianBlur(inverted_gray_image, (21, 21), 0)"
   ]
  },
  {
   "cell_type": "code",
   "execution_count": 7,
   "id": "c34b1f50",
   "metadata": {},
   "outputs": [],
   "source": [
    "#invert the blurred image\n",
    "inverted_blurred_image = 255 - blurred_image"
   ]
  },
  {
   "cell_type": "code",
   "execution_count": 8,
   "id": "06f02a38",
   "metadata": {},
   "outputs": [],
   "source": [
    "#create the pencil sketch image\n",
    "pencil_sketch_image = cv2.divide(gray_image, inverted_blurred_image, scale = 256.0)"
   ]
  },
  {
   "cell_type": "code",
   "execution_count": 9,
   "id": "d672e050",
   "metadata": {},
   "outputs": [],
   "source": [
    "#show the various images\n",
    "cv2.imshow('RGB Image', input_img)\n",
    "cv2.imshow('Gray_image', gray_image)\n",
    "cv2.imshow('Inverted Image',inverted_gray_image)"
   ]
  },
  {
   "cell_type": "code",
   "execution_count": 10,
   "id": "a2a5fde2",
   "metadata": {},
   "outputs": [],
   "source": [
    "cv2.imshow('Pencil Sketch', pencil_sketch_image)"
   ]
  },
  {
   "cell_type": "code",
   "execution_count": null,
   "id": "02cb2c72",
   "metadata": {},
   "outputs": [],
   "source": [
    "cv2.waitKey(0)"
   ]
  },
  {
   "cell_type": "markdown",
   "id": "816a33b4",
   "metadata": {},
   "source": [
    "![](DOG.JPG)"
   ]
  },
  {
   "cell_type": "code",
   "execution_count": null,
   "id": "ae578629",
   "metadata": {},
   "outputs": [],
   "source": []
  }
 ],
 "metadata": {
  "kernelspec": {
   "display_name": "Python 3 (ipykernel)",
   "language": "python",
   "name": "python3"
  },
  "language_info": {
   "codemirror_mode": {
    "name": "ipython",
    "version": 3
   },
   "file_extension": ".py",
   "mimetype": "text/x-python",
   "name": "python",
   "nbconvert_exporter": "python",
   "pygments_lexer": "ipython3",
   "version": "3.9.7"
  }
 },
 "nbformat": 4,
 "nbformat_minor": 5
}
